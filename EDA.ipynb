{
 "cells": [
  {
   "cell_type": "code",
   "execution_count": 1,
   "id": "b030cca7-a658-4e9b-8b14-b01e60e18c45",
   "metadata": {},
   "outputs": [],
   "source": [
    "import pandas as pd\n",
    "import pickle\n",
    "import os\n",
    "from load_data import *"
   ]
  },
  {
   "cell_type": "code",
   "execution_count": 2,
   "id": "32d4dbaa-6480-4499-8e51-a14500392499",
   "metadata": {},
   "outputs": [],
   "source": [
    "with open('/opt/ml/input/data/label_type.pkl', 'rb') as f:\n",
    "    label_type = pickle.load(f)\n",
    "\n",
    "train_dir = \"/opt/ml/input/data/train/train.tsv\"\n",
    "train_pd = pd.read_csv(train_dir, delimiter='\\t', header=None)\n",
    "\n",
    "test_dir = \"/opt/ml/input/data/test/test.tsv\"\n",
    "test_pd = pd.read_csv(test_dir, delimiter='\\t', header=None)\n",
    "\n",
    "more_dir = \"/opt/ml/input/data/train/more.tsv\"\n",
    "more_pd = pd.read_csv(more_dir, delimiter='\\t', header=None)\n",
    "\n",
    "all_dir = \"/opt/ml/input/data/train/all.tsv\"\n",
    "# all_dir = \"/opt/ml/input/data/my/my_test3.tsv\"\n",
    "# all_pd = pd.read_csv(all_dir, delimiter='\\t', header=None, error_bad_lines=False)\n",
    "all_pd = pd.read_csv(all_dir, delimiter='\\t', header=None)"
   ]
  },
  {
   "cell_type": "code",
   "execution_count": 13,
   "id": "e82ce2a0-9a74-41fe-a42e-13fb1bb9a26b",
   "metadata": {},
   "outputs": [],
   "source": [
    "import matplotlib.pyplot as plt\n",
    "import seaborn as sns"
   ]
  },
  {
   "cell_type": "code",
   "execution_count": 5,
   "id": "5a33cdc2-f0eb-433d-9548-f737fb19e7bc",
   "metadata": {},
   "outputs": [
    {
     "name": "stdout",
     "output_type": "stream",
     "text": [
      "관계_없음          4441\n",
      "단체:구성원          815\n",
      "인물:소속단체         679\n",
      "인물:직업/직함        553\n",
      "단체:상위_단체        335\n",
      "단체:별칭           231\n",
      "인물:출신성분/국적      209\n",
      "인물:동료           186\n",
      "단체:제작           165\n",
      "인물:부모님          164\n",
      "단체:본사_도시        136\n",
      "단체:본사_국가        115\n",
      "인물:별칭           103\n",
      "인물:배우자           92\n",
      "인물:자녀            84\n",
      "단체:하위_단체         80\n",
      "단체:창립일           67\n",
      "인물:기타_친족         58\n",
      "인물:제작            56\n",
      "인물:형제/자매/남매      52\n",
      "인물:사망_일시         45\n",
      "단체:창립자           45\n",
      "단체:모회사           44\n",
      "인물:출생_일시         36\n",
      "인물:거주_국가         27\n",
      "인물:거주_도시         26\n",
      "단체:본사_주(도)       23\n",
      "단체:정치/종교성향       18\n",
      "단체:해산일           15\n",
      "인물:종교            15\n",
      "인물:거주_주(도)       12\n",
      "단체:주주            11\n",
      "인물:용의자           11\n",
      "단체:구성원_수          9\n",
      "인물:학교             9\n",
      "인물:출생_국가          8\n",
      "인물:사망_원인          7\n",
      "인물:나이             5\n",
      "단체:자회사            5\n",
      "인물:출생_도시          4\n",
      "인물:사망_도시          3\n",
      "인물:사망_국가          1\n",
      "Name: 8, dtype: int64\n",
      "(9000, 9)\n",
      "9000\n",
      "\n"
     ]
    }
   ],
   "source": [
    "# train, test 데이터 레이블 개수 체크\n",
    "print(train_pd[8].value_counts())\n",
    "print(train_pd.shape)\n",
    "print(train_pd[8].shape[0])\n",
    "print()\n",
    "# print(test_pd[8].value_counts())\n",
    "# -> train 데이터 불균형 심함, test 는 모두 blind 처리"
   ]
  },
  {
   "cell_type": "code",
   "execution_count": 18,
   "id": "68c933e5-cbb0-4575-89c0-30c9228738b5",
   "metadata": {},
   "outputs": [
    {
     "data": {
      "text/plain": [
       "<AxesSubplot:ylabel='count'>"
      ]
     },
     "execution_count": 18,
     "metadata": {},
     "output_type": "execute_result"
    },
    {
     "data": {
      "image/png": "[encoded data removed]",
      "text/plain": [
       "<Figure size 1080x576 with 1 Axes>"
      ]
     },
     "metadata": {
      "needs_background": "light"
     },
     "output_type": "display_data"
    }
   ],
   "source": [
    "train_value = train_pd[8].value_counts()\n",
    "\n",
    "plt.figure(figsize=(15, 8))\n",
    "# plt.displot(train_value)\n",
    "sns.countplot(data=train_value)\n",
    "\n"
   ]
  },
  {
   "cell_type": "code",
   "execution_count": 19,
   "id": "0d36aa99-797f-4de5-a775-1692971aaff1",
   "metadata": {},
   "outputs": [
    {
     "name": "stdout",
     "output_type": "stream",
     "text": [
      "인물:출신성분/국적    77850\n",
      "인물:직업/직함      34615\n",
      "단체:창립일        27757\n",
      "인물:제작         16601\n",
      "단체:제작         15039\n",
      "단체:구성원        13779\n",
      "인물:배우자        11205\n",
      "인물:자녀         10461\n",
      "인물:기타_친족       9650\n",
      "인물:부모님         4566\n",
      "단체:상위_단체       3436\n",
      "인물:학교          2062\n",
      "단체:정치/종교성향     1591\n",
      "인물:소속단체         875\n",
      "단체:창립자          124\n",
      "Name: 8, dtype: int64\n",
      "(229611, 9)\n",
      "229611\n",
      "\n"
     ]
    }
   ],
   "source": [
    "# more 데이터 레이블 개수 체크\n",
    "print(more_pd[8].value_counts())\n",
    "print(more_pd.shape)\n",
    "print(more_pd[8].shape[0])\n",
    "print()"
   ]
  },
  {
   "cell_type": "code",
   "execution_count": 20,
   "id": "d737fcc9-e8be-43cf-832b-68eed97fde2d",
   "metadata": {},
   "outputs": [
    {
     "name": "stdout",
     "output_type": "stream",
     "text": [
      "관계_없음          4441\n",
      "인물:기타_친족       1502\n",
      "인물:출신성분/국적     1502\n",
      "인물:제작          1502\n",
      "인물:배우자         1502\n",
      "단체:창립일         1502\n",
      "단체:제작          1502\n",
      "인물:직업/직함       1502\n",
      "인물:부모님         1502\n",
      "인물:자녀          1502\n",
      "단체:상위_단체       1501\n",
      "인물:학교          1500\n",
      "인물:소속단체        1472\n",
      "단체:정치/종교성향     1464\n",
      "단체:구성원          815\n",
      "단체:별칭           231\n",
      "인물:동료           186\n",
      "단체:창립자          156\n",
      "단체:본사_도시        136\n",
      "단체:본사_국가        115\n",
      "인물:별칭           103\n",
      "단체:하위_단체         80\n",
      "인물:형제/자매/남매      52\n",
      "인물:사망_일시         45\n",
      "단체:모회사           44\n",
      "인물:출생_일시         36\n",
      "인물:거주_국가         27\n",
      "인물:거주_도시         26\n",
      "단체:본사_주(도)       23\n",
      "인물:종교            15\n",
      "단체:해산일           15\n",
      "인물:거주_주(도)       12\n",
      "단체:주주            11\n",
      "인물:용의자           11\n",
      "단체:구성원_수          9\n",
      "인물:출생_국가          8\n",
      "인물:사망_원인          7\n",
      "인물:나이             5\n",
      "단체:자회사            5\n",
      "인물:출생_도시          4\n",
      "인물:사망_도시          3\n",
      "인물:사망_국가          1\n",
      "Name: 8, dtype: int64\n",
      "(26077, 9)\n",
      "26077\n",
      "\n"
     ]
    }
   ],
   "source": [
    "# all 데이터 레이블 개수 체크\n",
    "print(all_pd[8].value_counts())\n",
    "print(all_pd.shape)\n",
    "print(all_pd[8].shape[0])\n",
    "print()"
   ]
  },
  {
   "cell_type": "code",
   "execution_count": null,
   "id": "425a5700-5453-493d-8be2-50964b05b119",
   "metadata": {},
   "outputs": [],
   "source": []
  }
 ],
 "metadata": {
  "kernelspec": {
   "display_name": "Python 3",
   "language": "python",
   "name": "python3"
  },
  "language_info": {
   "codemirror_mode": {
    "name": "ipython",
    "version": 3
   },
   "file_extension": ".py",
   "mimetype": "text/x-python",
   "name": "python",
   "nbconvert_exporter": "python",
   "pygments_lexer": "ipython3",
   "version": "3.7.7"
  }
 },
 "nbformat": 4,
 "nbformat_minor": 5
}
